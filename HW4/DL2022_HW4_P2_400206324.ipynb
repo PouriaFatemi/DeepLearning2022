{
  "nbformat": 4,
  "nbformat_minor": 0,
  "metadata": {
    "colab": {
      "provenance": []
    },
    "kernelspec": {
      "name": "python3",
      "display_name": "Python 3"
    },
    "accelerator": "GPU",
    "gpuClass": "standard",
    "widgets": {
      "application/vnd.jupyter.widget-state+json": {
        "2a86526cbdae4009857d53d8dd22dc6a": {
          "model_module": "@jupyter-widgets/controls",
          "model_name": "HBoxModel",
          "model_module_version": "1.5.0",
          "state": {
            "_dom_classes": [],
            "_model_module": "@jupyter-widgets/controls",
            "_model_module_version": "1.5.0",
            "_model_name": "HBoxModel",
            "_view_count": null,
            "_view_module": "@jupyter-widgets/controls",
            "_view_module_version": "1.5.0",
            "_view_name": "HBoxView",
            "box_style": "",
            "children": [
              "IPY_MODEL_1fb4b64cee904438bf0079c3ef576bfa",
              "IPY_MODEL_206b969f8c114d158713b03d46611268",
              "IPY_MODEL_331586a186254267aad748ec5c832cf5"
            ],
            "layout": "IPY_MODEL_b6cf0a621419469d999a61b3c4f5fabf"
          }
        },
        "1fb4b64cee904438bf0079c3ef576bfa": {
          "model_module": "@jupyter-widgets/controls",
          "model_name": "HTMLModel",
          "model_module_version": "1.5.0",
          "state": {
            "_dom_classes": [],
            "_model_module": "@jupyter-widgets/controls",
            "_model_module_version": "1.5.0",
            "_model_name": "HTMLModel",
            "_view_count": null,
            "_view_module": "@jupyter-widgets/controls",
            "_view_module_version": "1.5.0",
            "_view_name": "HTMLView",
            "description": "",
            "description_tooltip": null,
            "layout": "IPY_MODEL_8357f0af0b484085aca821aec33aa872",
            "placeholder": "​",
            "style": "IPY_MODEL_9864dd17fbda40bf9d6f614e4a52b370",
            "value": "100%"
          }
        },
        "206b969f8c114d158713b03d46611268": {
          "model_module": "@jupyter-widgets/controls",
          "model_name": "FloatProgressModel",
          "model_module_version": "1.5.0",
          "state": {
            "_dom_classes": [],
            "_model_module": "@jupyter-widgets/controls",
            "_model_module_version": "1.5.0",
            "_model_name": "FloatProgressModel",
            "_view_count": null,
            "_view_module": "@jupyter-widgets/controls",
            "_view_module_version": "1.5.0",
            "_view_name": "ProgressView",
            "bar_style": "success",
            "description": "",
            "description_tooltip": null,
            "layout": "IPY_MODEL_e7f4a71aef73449eb85769dbaaeb66b3",
            "max": 102530333,
            "min": 0,
            "orientation": "horizontal",
            "style": "IPY_MODEL_9cae70f3a2f9475eb4c492111407d1fc",
            "value": 102530333
          }
        },
        "331586a186254267aad748ec5c832cf5": {
          "model_module": "@jupyter-widgets/controls",
          "model_name": "HTMLModel",
          "model_module_version": "1.5.0",
          "state": {
            "_dom_classes": [],
            "_model_module": "@jupyter-widgets/controls",
            "_model_module_version": "1.5.0",
            "_model_name": "HTMLModel",
            "_view_count": null,
            "_view_module": "@jupyter-widgets/controls",
            "_view_module_version": "1.5.0",
            "_view_name": "HTMLView",
            "description": "",
            "description_tooltip": null,
            "layout": "IPY_MODEL_52266ddfcbdc4fe3a570e96a4a82264a",
            "placeholder": "​",
            "style": "IPY_MODEL_f4f6dc55e73249f89a9e2062bb63f4bc",
            "value": " 97.8M/97.8M [00:00&lt;00:00, 256MB/s]"
          }
        },
        "b6cf0a621419469d999a61b3c4f5fabf": {
          "model_module": "@jupyter-widgets/base",
          "model_name": "LayoutModel",
          "model_module_version": "1.2.0",
          "state": {
            "_model_module": "@jupyter-widgets/base",
            "_model_module_version": "1.2.0",
            "_model_name": "LayoutModel",
            "_view_count": null,
            "_view_module": "@jupyter-widgets/base",
            "_view_module_version": "1.2.0",
            "_view_name": "LayoutView",
            "align_content": null,
            "align_items": null,
            "align_self": null,
            "border": null,
            "bottom": null,
            "display": null,
            "flex": null,
            "flex_flow": null,
            "grid_area": null,
            "grid_auto_columns": null,
            "grid_auto_flow": null,
            "grid_auto_rows": null,
            "grid_column": null,
            "grid_gap": null,
            "grid_row": null,
            "grid_template_areas": null,
            "grid_template_columns": null,
            "grid_template_rows": null,
            "height": null,
            "justify_content": null,
            "justify_items": null,
            "left": null,
            "margin": null,
            "max_height": null,
            "max_width": null,
            "min_height": null,
            "min_width": null,
            "object_fit": null,
            "object_position": null,
            "order": null,
            "overflow": null,
            "overflow_x": null,
            "overflow_y": null,
            "padding": null,
            "right": null,
            "top": null,
            "visibility": null,
            "width": null
          }
        },
        "8357f0af0b484085aca821aec33aa872": {
          "model_module": "@jupyter-widgets/base",
          "model_name": "LayoutModel",
          "model_module_version": "1.2.0",
          "state": {
            "_model_module": "@jupyter-widgets/base",
            "_model_module_version": "1.2.0",
            "_model_name": "LayoutModel",
            "_view_count": null,
            "_view_module": "@jupyter-widgets/base",
            "_view_module_version": "1.2.0",
            "_view_name": "LayoutView",
            "align_content": null,
            "align_items": null,
            "align_self": null,
            "border": null,
            "bottom": null,
            "display": null,
            "flex": null,
            "flex_flow": null,
            "grid_area": null,
            "grid_auto_columns": null,
            "grid_auto_flow": null,
            "grid_auto_rows": null,
            "grid_column": null,
            "grid_gap": null,
            "grid_row": null,
            "grid_template_areas": null,
            "grid_template_columns": null,
            "grid_template_rows": null,
            "height": null,
            "justify_content": null,
            "justify_items": null,
            "left": null,
            "margin": null,
            "max_height": null,
            "max_width": null,
            "min_height": null,
            "min_width": null,
            "object_fit": null,
            "object_position": null,
            "order": null,
            "overflow": null,
            "overflow_x": null,
            "overflow_y": null,
            "padding": null,
            "right": null,
            "top": null,
            "visibility": null,
            "width": null
          }
        },
        "9864dd17fbda40bf9d6f614e4a52b370": {
          "model_module": "@jupyter-widgets/controls",
          "model_name": "DescriptionStyleModel",
          "model_module_version": "1.5.0",
          "state": {
            "_model_module": "@jupyter-widgets/controls",
            "_model_module_version": "1.5.0",
            "_model_name": "DescriptionStyleModel",
            "_view_count": null,
            "_view_module": "@jupyter-widgets/base",
            "_view_module_version": "1.2.0",
            "_view_name": "StyleView",
            "description_width": ""
          }
        },
        "e7f4a71aef73449eb85769dbaaeb66b3": {
          "model_module": "@jupyter-widgets/base",
          "model_name": "LayoutModel",
          "model_module_version": "1.2.0",
          "state": {
            "_model_module": "@jupyter-widgets/base",
            "_model_module_version": "1.2.0",
            "_model_name": "LayoutModel",
            "_view_count": null,
            "_view_module": "@jupyter-widgets/base",
            "_view_module_version": "1.2.0",
            "_view_name": "LayoutView",
            "align_content": null,
            "align_items": null,
            "align_self": null,
            "border": null,
            "bottom": null,
            "display": null,
            "flex": null,
            "flex_flow": null,
            "grid_area": null,
            "grid_auto_columns": null,
            "grid_auto_flow": null,
            "grid_auto_rows": null,
            "grid_column": null,
            "grid_gap": null,
            "grid_row": null,
            "grid_template_areas": null,
            "grid_template_columns": null,
            "grid_template_rows": null,
            "height": null,
            "justify_content": null,
            "justify_items": null,
            "left": null,
            "margin": null,
            "max_height": null,
            "max_width": null,
            "min_height": null,
            "min_width": null,
            "object_fit": null,
            "object_position": null,
            "order": null,
            "overflow": null,
            "overflow_x": null,
            "overflow_y": null,
            "padding": null,
            "right": null,
            "top": null,
            "visibility": null,
            "width": null
          }
        },
        "9cae70f3a2f9475eb4c492111407d1fc": {
          "model_module": "@jupyter-widgets/controls",
          "model_name": "ProgressStyleModel",
          "model_module_version": "1.5.0",
          "state": {
            "_model_module": "@jupyter-widgets/controls",
            "_model_module_version": "1.5.0",
            "_model_name": "ProgressStyleModel",
            "_view_count": null,
            "_view_module": "@jupyter-widgets/base",
            "_view_module_version": "1.2.0",
            "_view_name": "StyleView",
            "bar_color": null,
            "description_width": ""
          }
        },
        "52266ddfcbdc4fe3a570e96a4a82264a": {
          "model_module": "@jupyter-widgets/base",
          "model_name": "LayoutModel",
          "model_module_version": "1.2.0",
          "state": {
            "_model_module": "@jupyter-widgets/base",
            "_model_module_version": "1.2.0",
            "_model_name": "LayoutModel",
            "_view_count": null,
            "_view_module": "@jupyter-widgets/base",
            "_view_module_version": "1.2.0",
            "_view_name": "LayoutView",
            "align_content": null,
            "align_items": null,
            "align_self": null,
            "border": null,
            "bottom": null,
            "display": null,
            "flex": null,
            "flex_flow": null,
            "grid_area": null,
            "grid_auto_columns": null,
            "grid_auto_flow": null,
            "grid_auto_rows": null,
            "grid_column": null,
            "grid_gap": null,
            "grid_row": null,
            "grid_template_areas": null,
            "grid_template_columns": null,
            "grid_template_rows": null,
            "height": null,
            "justify_content": null,
            "justify_items": null,
            "left": null,
            "margin": null,
            "max_height": null,
            "max_width": null,
            "min_height": null,
            "min_width": null,
            "object_fit": null,
            "object_position": null,
            "order": null,
            "overflow": null,
            "overflow_x": null,
            "overflow_y": null,
            "padding": null,
            "right": null,
            "top": null,
            "visibility": null,
            "width": null
          }
        },
        "f4f6dc55e73249f89a9e2062bb63f4bc": {
          "model_module": "@jupyter-widgets/controls",
          "model_name": "DescriptionStyleModel",
          "model_module_version": "1.5.0",
          "state": {
            "_model_module": "@jupyter-widgets/controls",
            "_model_module_version": "1.5.0",
            "_model_name": "DescriptionStyleModel",
            "_view_count": null,
            "_view_module": "@jupyter-widgets/base",
            "_view_module_version": "1.2.0",
            "_view_name": "StyleView",
            "description_width": ""
          }
        }
      }
    }
  },
  "cells": [
    {
      "cell_type": "markdown",
      "source": [
        "# In the Name of God\n",
        "## Deep Learning HW4 - Problem 2\n",
        "## Sayed Pouria fatemi 400206324\n"
      ],
      "metadata": {
        "id": "PtOSIGEJ6b7j"
      }
    },
    {
      "cell_type": "markdown",
      "source": [
        "<div dir=\"rtl\"> <font size=\"4\" face=\"vazirmatn\">    \n",
        "برای این سوال از سایت \n",
        "\n",
        "https://medium.com/analytics-vidhya/use-pytorch-to-create-an-image-captioning-model-with-cnn-and-seq2seq-lstm-and-train-on-google-e6563cb9f511\n",
        "\n",
        "کمک گرفته شده است.\n",
        "</font> </div> "
      ],
      "metadata": {
        "id": "ru2PykzRebii"
      }
    },
    {
      "cell_type": "code",
      "source": [
        "import os \n",
        "import sys\n",
        "from pycocotools.coco import COCO\n",
        "import urllib\n",
        "import zipfile \n",
        "import matplotlib.pyplot as plt \n",
        "import skimage.io as io \n",
        "import numpy as np \n",
        "import nltk\n",
        "import pickle\n",
        "from collections import Counter\n",
        "import torch\n",
        "import torch.utils.data as data\n",
        "from PIL import Image\n",
        "from tqdm import tqdm\n",
        "import random\n",
        "import json\n",
        "nltk.download('punkt')\n",
        "from torchvision import transforms\n",
        "import torch.nn as nn\n",
        "import math\n",
        "import matplotlib.pyplot as plt \n",
        "import torchvision.models as models\n",
        "device =  torch.device('cuda' if torch.cuda.is_available() else 'cpu')\n",
        "\n",
        "%matplotlib inline "
      ],
      "metadata": {
        "colab": {
          "base_uri": "https://localhost:8080/"
        },
        "id": "2anKJPIeZtue",
        "outputId": "c1ba3ea4-d1da-42a9-ed3e-6c7fa2d36ef0"
      },
      "execution_count": 1,
      "outputs": [
        {
          "output_type": "stream",
          "name": "stderr",
          "text": [
            "[nltk_data] Downloading package punkt to /root/nltk_data...\n",
            "[nltk_data]   Unzipping tokenizers/punkt.zip.\n"
          ]
        }
      ]
    },
    {
      "cell_type": "code",
      "metadata": {
        "id": "L0mg9Oqku4FY",
        "outputId": "6d787646-0ecd-4ae7-860f-61fbfc5fcff9",
        "colab": {
          "base_uri": "https://localhost:8080/"
        }
      },
      "source": [
        "from google.colab import drive \n",
        "drive.mount('/content/drive')"
      ],
      "execution_count": 19,
      "outputs": [
        {
          "output_type": "stream",
          "name": "stdout",
          "text": [
            "Mounted at /content/drive\n"
          ]
        }
      ]
    },
    {
      "cell_type": "markdown",
      "metadata": {
        "id": "MEHyryqivS6i"
      },
      "source": [
        "## Load Data"
      ]
    },
    {
      "cell_type": "code",
      "metadata": {
        "id": "jY2yAgDovgLd",
        "outputId": "da28c23b-56ff-42ef-f3b5-8cc38521454d",
        "colab": {
          "base_uri": "https://localhost:8080/"
        }
      },
      "source": [
        "os.makedirs('opt')\n",
        "os.chdir( '/content/opt' )\n",
        "!git clone 'https://github.com/cocodataset/cocoapi.git'"
      ],
      "execution_count": 4,
      "outputs": [
        {
          "output_type": "stream",
          "name": "stdout",
          "text": [
            "Cloning into 'cocoapi'...\n",
            "remote: Enumerating objects: 975, done.\u001b[K\n",
            "remote: Total 975 (delta 0), reused 0 (delta 0), pack-reused 975\u001b[K\n",
            "Receiving objects: 100% (975/975), 11.72 MiB | 20.28 MiB/s, done.\n",
            "Resolving deltas: 100% (576/576), done.\n"
          ]
        }
      ]
    },
    {
      "cell_type": "code",
      "metadata": {
        "id": "VA6JaTnzvrhG",
        "outputId": "7834de45-6125-4782-9f25-cdb97b976678",
        "colab": {
          "base_uri": "https://localhost:8080/"
        }
      },
      "source": [
        "os.chdir('/content/opt/cocoapi')\n",
        "\n",
        "annotations_trainval2017 = 'http://images.cocodataset.org/annotations/annotations_trainval2017.zip'\n",
        "image_info_test2017 = 'http://images.cocodataset.org/annotations/image_info_test2017.zip'\n",
        "\n",
        "urllib.request.urlretrieve(annotations_trainval2017 , filename = 'annotations_trainval2017.zip' )\n",
        "urllib.request.urlretrieve(image_info_test2017 , filename= 'image_info_test2017.zip' )"
      ],
      "execution_count": 5,
      "outputs": [
        {
          "output_type": "execute_result",
          "data": {
            "text/plain": [
              "('image_info_test2017.zip', <http.client.HTTPMessage at 0x7f0f97c5b4f0>)"
            ]
          },
          "metadata": {},
          "execution_count": 5
        }
      ]
    },
    {
      "cell_type": "code",
      "source": [
        "!unzip '/content/opt/cocoapi/annotations_trainval2017.zip'\n",
        "!rm -rf '/content/opt/cocoapi/annotations_trainval2017.zip'\n",
        "!unzip '/content/opt/cocoapi/image_info_test2017.zip'\n",
        "!rm -rf '/content/opt/cocoapi/image_info_test2017.zip'"
      ],
      "metadata": {
        "colab": {
          "base_uri": "https://localhost:8080/"
        },
        "id": "itqNsivoajep",
        "outputId": "8af3b6f4-0001-43c2-bfb8-f97b919f6e7f"
      },
      "execution_count": 6,
      "outputs": [
        {
          "output_type": "stream",
          "name": "stdout",
          "text": [
            "Archive:  /content/opt/cocoapi/annotations_trainval2017.zip\n",
            "  inflating: annotations/instances_train2017.json  \n",
            "  inflating: annotations/instances_val2017.json  \n",
            "  inflating: annotations/captions_train2017.json  \n",
            "  inflating: annotations/captions_val2017.json  \n",
            "  inflating: annotations/person_keypoints_train2017.json  \n",
            "  inflating: annotations/person_keypoints_val2017.json  \n",
            "Archive:  /content/opt/cocoapi/image_info_test2017.zip\n",
            "  inflating: annotations/image_info_test-dev2017.json  \n",
            "  inflating: annotations/image_info_test2017.json  \n"
          ]
        }
      ]
    },
    {
      "cell_type": "code",
      "metadata": {
        "id": "Lp6iuhP-yyI7",
        "outputId": "f2072ef2-0ba4-492c-8f62-04f2159bf5a3",
        "colab": {
          "base_uri": "https://localhost:8080/"
        }
      },
      "source": [
        "os.chdir('/content/opt/cocoapi/annotations')\n",
        "\n",
        "dataType = 'val2017'\n",
        "instances_annFile = 'instances_{}.json'.format(dataType)\n",
        "print(instances_annFile)\n",
        "coco = COCO(instances_annFile)\n",
        "\n",
        "captions_annFile = 'captions_{}.json'.format(dataType)\n",
        "coco_caps = COCO(captions_annFile)\n",
        "\n",
        "ids = list(coco.anns.keys())"
      ],
      "execution_count": 7,
      "outputs": [
        {
          "output_type": "stream",
          "name": "stdout",
          "text": [
            "instances_val2017.json\n",
            "loading annotations into memory...\n",
            "Done (t=0.93s)\n",
            "creating index...\n",
            "index created!\n",
            "loading annotations into memory...\n",
            "Done (t=0.07s)\n",
            "creating index...\n",
            "index created!\n"
          ]
        }
      ]
    },
    {
      "cell_type": "code",
      "metadata": {
        "id": "iZhRb--F1Ric",
        "outputId": "4a7fab31-1f27-41af-fd5d-60c822bd669a",
        "colab": {
          "base_uri": "https://localhost:8080/"
        }
      },
      "source": [
        "os.chdir('/content/opt/cocoapi')\n",
        "\n",
        "train2017 = 'http://images.cocodataset.org/zips/train2017.zip'\n",
        "test2017 = 'http://images.cocodataset.org/zips/test2017.zip'\n",
        "\n",
        "urllib.request.urlretrieve( train2017 , 'train2017.zip' )\n",
        "urllib.request.urlretrieve( test2017 , 'test2017.zip' )"
      ],
      "execution_count": 27,
      "outputs": [
        {
          "output_type": "execute_result",
          "data": {
            "text/plain": [
              "('train2017.zip', <http.client.HTTPMessage at 0x7f0ec1eb5d30>)"
            ]
          },
          "metadata": {},
          "execution_count": 27
        }
      ]
    },
    {
      "cell_type": "code",
      "source": [
        "!unzip -q '/content/opt/cocoapi/train2017.zip'\n",
        "!rm -rf '/content/opt/cocoapi/train2017.zip'\n",
        "!unzip -q '/content/opt/cocoapi/test2017.zip'\n",
        "!rm -rf '/content/opt/cocoapi/test2017.zip'"
      ],
      "metadata": {
        "id": "C5THae1WcKW8"
      },
      "execution_count": 28,
      "outputs": []
    },
    {
      "cell_type": "markdown",
      "metadata": {
        "id": "E9fqDQO35KPG"
      },
      "source": [
        "## DataLoader"
      ]
    },
    {
      "cell_type": "code",
      "metadata": {
        "id": "i7eAPTW12RNE"
      },
      "source": [
        "class Vocabulary(object):\n",
        "\n",
        "    def __init__(self,\n",
        "        vocab_threshold,\n",
        "        vocab_file='./vocab.pkl',\n",
        "        start_word=\"<start>\",\n",
        "        end_word=\"<end>\",\n",
        "        unk_word=\"<unk>\",\n",
        "        annotations_file='../cocoapi/annotations/captions_train2017.json',\n",
        "        vocab_from_file=False):\n",
        "      \n",
        "        self.vocab_threshold = vocab_threshold\n",
        "        self.vocab_file = vocab_file\n",
        "        self.start_word = start_word\n",
        "        self.end_word = end_word\n",
        "        self.unk_word = unk_word\n",
        "        self.annotations_file = annotations_file\n",
        "        self.vocab_from_file = vocab_from_file\n",
        "        self.get_vocab()\n",
        "\n",
        "    def get_vocab(self):\n",
        "\n",
        "        if os.path.exists(self.vocab_file) & self.vocab_from_file:\n",
        "            with open(self.vocab_file, 'rb') as f:\n",
        "                vocab = pickle.load(f)\n",
        "                self.word2idx = vocab.word2idx\n",
        "                self.idx2word = vocab.idx2word\n",
        "            print('Vocabulary successfully loaded from vocab.pkl file!')\n",
        "        else:\n",
        "            self.build_vocab()\n",
        "            with open(self.vocab_file, 'wb') as f:\n",
        "                pickle.dump(self, f)\n",
        "        \n",
        "    def build_vocab(self):\n",
        "\n",
        "        self.init_vocab()\n",
        "        self.add_word(self.start_word)\n",
        "        self.add_word(self.end_word)\n",
        "        self.add_word(self.unk_word)\n",
        "        self.add_captions()\n",
        "\n",
        "    def init_vocab(self):\n",
        "\n",
        "        self.word2idx = {}\n",
        "        self.idx2word = {}\n",
        "        self.idx = 0\n",
        "\n",
        "    def add_word(self, word):\n",
        "\n",
        "        if not word in self.word2idx:\n",
        "            self.word2idx[word] = self.idx\n",
        "            self.idx2word[self.idx] = word\n",
        "            self.idx += 1\n",
        "\n",
        "    def add_captions(self):\n",
        "\n",
        "        coco = COCO(self.annotations_file)\n",
        "        counter = Counter()\n",
        "        ids = coco.anns.keys()\n",
        "        for i, id in enumerate(ids):\n",
        "            caption = str(coco.anns[id]['caption'])\n",
        "            tokens = nltk.tokenize.word_tokenize(caption.lower())\n",
        "            counter.update(tokens)\n",
        "\n",
        "            if i % 100000 == 0:\n",
        "                print(\"[%d/%d] Tokenizing captions...\" % (i, len(ids)))\n",
        "\n",
        "        words = [word for word, cnt in counter.items() if cnt >= self.vocab_threshold]\n",
        "\n",
        "        for i, word in enumerate(words):\n",
        "            self.add_word(word)\n",
        "\n",
        "    def __call__(self, word):\n",
        "        if not word in self.word2idx:\n",
        "            return self.word2idx[self.unk_word]\n",
        "        return self.word2idx[word]\n",
        "\n",
        "    def __len__(self):\n",
        "        return len(self.word2idx)"
      ],
      "execution_count": 12,
      "outputs": []
    },
    {
      "cell_type": "code",
      "metadata": {
        "id": "UiKijrXf72rw"
      },
      "source": [
        "def get_loader(transform,\n",
        "               mode='train',\n",
        "               batch_size=1,\n",
        "               vocab_threshold=None,\n",
        "               vocab_file='./vocab.pkl',\n",
        "               start_word=\"<start>\",\n",
        "               end_word=\"<end>\",\n",
        "               unk_word=\"<unk>\",\n",
        "               vocab_from_file=True,\n",
        "               num_workers=0,\n",
        "               cocoapi_loc='/opt'):\n",
        "    \n",
        "    if mode == 'train':\n",
        "        img_folder = os.path.join(cocoapi_loc, 'cocoapi/train2017/')\n",
        "        annotations_file = os.path.join(cocoapi_loc, 'cocoapi/annotations/captions_train2017.json')\n",
        "    if mode == 'test':\n",
        "        img_folder = os.path.join(cocoapi_loc, 'cocoapi/test2017/')\n",
        "        annotations_file = os.path.join(cocoapi_loc, 'cocoapi/annotations/image_info_test2017.json')\n",
        "\n",
        "    dataset = CoCoDataset(transform=transform,\n",
        "                          mode=mode,\n",
        "                          batch_size=batch_size,\n",
        "                          vocab_threshold=vocab_threshold,\n",
        "                          vocab_file=vocab_file,\n",
        "                          start_word=start_word,\n",
        "                          end_word=end_word,\n",
        "                          unk_word=unk_word,\n",
        "                          annotations_file=annotations_file,\n",
        "                          vocab_from_file=vocab_from_file,\n",
        "                          img_folder=img_folder)\n",
        "\n",
        "    if mode == 'train':\n",
        "        indices = dataset.get_train_indices()\n",
        "        initial_sampler = data.sampler.SubsetRandomSampler(indices=indices)\n",
        "        data_loader = data.DataLoader(dataset=dataset, \n",
        "                                      num_workers=num_workers,\n",
        "                                      batch_sampler=data.sampler.BatchSampler(sampler=initial_sampler,\n",
        "                                                                              batch_size=dataset.batch_size,\n",
        "                                                                              drop_last=False))\n",
        "    else:\n",
        "        data_loader = data.DataLoader(dataset=dataset,\n",
        "                                      batch_size=dataset.batch_size,\n",
        "                                      shuffle=True,\n",
        "                                      num_workers=num_workers)\n",
        "\n",
        "    return data_loader\n",
        "\n",
        "class CoCoDataset(data.Dataset):\n",
        "    \n",
        "    def __init__(self, transform, mode, batch_size, vocab_threshold, vocab_file, start_word, \n",
        "        end_word, unk_word, annotations_file, vocab_from_file, img_folder):\n",
        "        self.transform = transform\n",
        "        self.mode = mode\n",
        "        self.batch_size = batch_size\n",
        "        self.vocab = Vocabulary(vocab_threshold, vocab_file, start_word,\n",
        "            end_word, unk_word, annotations_file, vocab_from_file)\n",
        "        self.img_folder = img_folder\n",
        "        if self.mode == 'train':            \n",
        "            self.coco = COCO(annotations_file)\n",
        "            self.ids = list(self.coco.anns.keys())\n",
        "            print('Obtaining caption lengths...')\n",
        "            all_tokens = [nltk.tokenize.word_tokenize(str(self.coco.anns[self.ids[index]]['caption']).lower()) for index in tqdm(np.arange(len(self.ids)))]\n",
        "            self.caption_lengths = [len(token) for token in all_tokens]\n",
        "        else:\n",
        "            test_info = json.loads(open(annotations_file).read())\n",
        "            self.paths = [item['file_name'] for item in test_info['images']]\n",
        "        \n",
        "    def __getitem__(self, index):\n",
        "        if self.mode == 'train':\n",
        "            ann_id = self.ids[index]\n",
        "            caption = self.coco.anns[ann_id]['caption']\n",
        "            img_id = self.coco.anns[ann_id]['image_id']\n",
        "            path = self.coco.loadImgs(img_id)[0]['file_name']\n",
        "\n",
        "            image = Image.open(os.path.join(self.img_folder, path)).convert('RGB')\n",
        "            image = self.transform(image)\n",
        "\n",
        "            tokens = nltk.tokenize.word_tokenize(str(caption).lower())\n",
        "            caption = []\n",
        "            caption.append(self.vocab(self.vocab.start_word))\n",
        "            caption.extend([self.vocab(token) for token in tokens])\n",
        "            caption.append(self.vocab(self.vocab.end_word))\n",
        "            caption = torch.Tensor(caption).long()\n",
        "\n",
        "            return image, caption\n",
        "\n",
        "        else:\n",
        "            path = self.paths[index]\n",
        "\n",
        "            PIL_image = Image.open(os.path.join(self.img_folder, path)).convert('RGB')\n",
        "            orig_image = np.array(PIL_image)\n",
        "            image = self.transform(PIL_image)\n",
        "\n",
        "            return orig_image, image\n",
        "\n",
        "    def get_train_indices(self):\n",
        "        sel_length = np.random.choice(self.caption_lengths)\n",
        "        all_indices = np.where([self.caption_lengths[i] == sel_length for i in np.arange(len(self.caption_lengths))])[0]\n",
        "        indices = list(np.random.choice(all_indices, size=self.batch_size))\n",
        "        return indices\n",
        "\n",
        "    def __len__(self):\n",
        "        if self.mode == 'train':\n",
        "            return len(self.ids)\n",
        "        else:\n",
        "            return len(self.paths)"
      ],
      "execution_count": 13,
      "outputs": []
    },
    {
      "cell_type": "code",
      "metadata": {
        "id": "A8bGuKAz16XV",
        "outputId": "bcfab7a7-394c-4d30-980d-0a175ed9a2b4",
        "colab": {
          "base_uri": "https://localhost:8080/"
        }
      },
      "source": [
        "transform_train = transforms.Compose([ \n",
        "    transforms.Resize((224,224)),                          \n",
        "    transforms.RandomHorizontalFlip(),               \n",
        "    transforms.ToTensor(),                           \n",
        "    transforms.Normalize((0.485, 0.456, 0.406),      \n",
        "                         (0.229, 0.224, 0.225))])\n",
        "\n",
        "vocab_threshold = 8\n",
        "batch_size = 200\n",
        "data_loader_train = get_loader(transform=transform_train,\n",
        "                         mode='train',\n",
        "                         batch_size=batch_size,\n",
        "                         vocab_threshold=vocab_threshold,\n",
        "                         vocab_from_file=False,\n",
        "                         cocoapi_loc = '/content/opt')"
      ],
      "execution_count": 29,
      "outputs": [
        {
          "output_type": "stream",
          "name": "stdout",
          "text": [
            "loading annotations into memory...\n",
            "Done (t=1.20s)\n",
            "creating index...\n",
            "index created!\n",
            "[0/591753] Tokenizing captions...\n",
            "[100000/591753] Tokenizing captions...\n",
            "[200000/591753] Tokenizing captions...\n",
            "[300000/591753] Tokenizing captions...\n",
            "[400000/591753] Tokenizing captions...\n",
            "[500000/591753] Tokenizing captions...\n",
            "loading annotations into memory...\n",
            "Done (t=0.78s)\n",
            "creating index...\n",
            "index created!\n",
            "Obtaining caption lengths...\n"
          ]
        },
        {
          "output_type": "stream",
          "name": "stderr",
          "text": [
            "100%|██████████| 591753/591753 [01:01<00:00, 9659.69it/s]\n"
          ]
        }
      ]
    },
    {
      "cell_type": "markdown",
      "metadata": {
        "id": "cym1ywj7eX6g"
      },
      "source": [
        "## CNN Encoder\n",
        "\n"
      ]
    },
    {
      "cell_type": "code",
      "metadata": {
        "id": "mu6KyjYmfnlR"
      },
      "source": [
        "class EncoderCNN(nn.Module):\n",
        "    def __init__(self, embed_size):\n",
        "        super(EncoderCNN, self).__init__()\n",
        "        resnet = models.resnet50(pretrained=True)\n",
        "        for param in resnet.parameters():\n",
        "            param.requires_grad_(False)\n",
        "        \n",
        "        modules = list(resnet.children())[:-1]\n",
        "        self.resnet = nn.Sequential(*modules)\n",
        "        self.embed = nn.Linear(resnet.fc.in_features, embed_size)\n",
        "\n",
        "    def forward(self, images):\n",
        "        features = self.resnet(images)        \n",
        "        features = features.view(features.size(0), -1)        \n",
        "        features = self.embed(features)        \n",
        "        return features\n",
        "    "
      ],
      "execution_count": 14,
      "outputs": []
    },
    {
      "cell_type": "markdown",
      "metadata": {
        "id": "GAWJt8yusTf3"
      },
      "source": [
        "## RNN Decoder"
      ]
    },
    {
      "cell_type": "code",
      "metadata": {
        "id": "gPvXgdlvzat5"
      },
      "source": [
        "class DecoderRNN(nn.Module):\n",
        "    def __init__(self, embed_size, hidden_size, vocab_size, num_layers=1):\n",
        "        super( DecoderRNN , self).__init__()\n",
        "        self.embed_size = embed_size\n",
        "        self.hidden_size = hidden_size \n",
        "        self.vocab_size = vocab_size\n",
        "        self.num_layers = num_layers\n",
        "        self.word_embedding = nn.Embedding( self.vocab_size , self.embed_size )\n",
        "        self.lstm  = nn.LSTM(    input_size  =  self.embed_size , \n",
        "                             hidden_size = self.hidden_size,\n",
        "                             num_layers  = self.num_layers ,\n",
        "                             batch_first = True \n",
        "                             )\n",
        "        self.fc = nn.Linear( self.hidden_size , self.vocab_size  )\n",
        "        \n",
        "\n",
        "    def init_hidden( self, batch_size ):\n",
        "      return ( torch.zeros( self.num_layers , batch_size , self.hidden_size  ).to(device),\n",
        "      torch.zeros( self.num_layers , batch_size , self.hidden_size  ).to(device) )\n",
        "    \n",
        "    def forward(self, features, captions):            \n",
        "      captions = captions[:,:-1]      \n",
        "      self.batch_size = features.shape[0]\n",
        "      self.hidden = self.init_hidden( self.batch_size )\n",
        "      embeds = self.word_embedding( captions )\n",
        "      inputs = torch.cat( ( features.unsqueeze(dim=1) , embeds ) , dim =1  )      \n",
        "      lstm_out , self.hidden = self.lstm(inputs , self.hidden)      \n",
        "      outputs = self.fc( lstm_out )      \n",
        "      return outputs\n",
        "\n",
        "    def Predict(self, inputs, max_len=20):        \n",
        "        final_output = []\n",
        "        batch_size = inputs.shape[0]         \n",
        "        hidden = self.init_hidden(batch_size) \n",
        "    \n",
        "        while True:\n",
        "            lstm_out, hidden = self.lstm(inputs, hidden) \n",
        "            outputs = self.fc(lstm_out)  \n",
        "            outputs = outputs.squeeze(1) \n",
        "            _, max_idx = torch.max(outputs, dim=1) \n",
        "            final_output.append(max_idx.cpu().numpy()[0].item())             \n",
        "            if (max_idx == 1 or len(final_output) >=20 ):\n",
        "                break\n",
        "            \n",
        "            inputs = self.word_embedding(max_idx) \n",
        "            inputs = inputs.unsqueeze(1)             \n",
        "        return final_output  "
      ],
      "execution_count": 15,
      "outputs": []
    },
    {
      "cell_type": "markdown",
      "source": [
        "## Learning"
      ],
      "metadata": {
        "id": "G4ndzLRy9_Co"
      }
    },
    {
      "cell_type": "code",
      "metadata": {
        "id": "3jjOVmc82zl8"
      },
      "source": [
        "embed_size = 256\n",
        "hidden_size = 100\n",
        "num_layers =1 \n",
        "num_epochs = 3\n",
        "print_every = 150\n",
        "save_every = 20\n",
        "vocab_size = len(data_loader_train.dataset.vocab)\n",
        "total_step = math.ceil( len(data_loader_train.dataset.caption_lengths) / data_loader_train.batch_sampler.batch_size   )\n",
        "\n",
        "encoder = EncoderCNN( embed_size )\n",
        "encoder.to(device)\n",
        "\n",
        "decoder = DecoderRNN(  embed_size , hidden_size, vocab_size ,num_layers)\n",
        "criterion = nn.CrossEntropyLoss()\n",
        "lr = 0.001\n",
        "all_params = list(decoder.parameters())  + list( encoder.embed.parameters() )\n",
        "optimizer = torch.optim.Adam( params  = all_params , lr = lr  )\n",
        "\n",
        "\n",
        "\n",
        "device =  torch.device('cuda' if torch.cuda.is_available() else 'cpu')\n",
        "model_save_path = '/content/drive/My Drive/Colab Notebooks/ComputerVision/RNN_LSTM/image_caption/CVND---Image-Captioning-Project/checkpoint'\n",
        "os.makedirs( model_save_path , exist_ok=True)\n",
        "\n",
        "decoder_input_params = {'embed_size' : embed_size , \n",
        "                'hidden_size' : hidden_size , \n",
        "                'num_layers' : num_layers,\n",
        "                'lr' : lr ,\n",
        "                'vocab_size' : vocab_size\n",
        "                }\n",
        "\n",
        "with open(  os.path.join(model_save_path , 'decoder_input_params_12_20_2019.pickle'), 'wb') as handle:\n",
        "    pickle.dump(decoder_input_params, handle, protocol=pickle.HIGHEST_PROTOCOL)"
      ],
      "execution_count": null,
      "outputs": []
    },
    {
      "cell_type": "code",
      "metadata": {
        "id": "XRP1LVcoBAsv",
        "colab": {
          "base_uri": "https://localhost:8080/"
        },
        "outputId": "6908b5ab-4e89-40b4-ed6e-02fe6a3e660b"
      },
      "source": [
        "for e in range(num_epochs):\n",
        "  for step in range(total_step):\n",
        "    indices = data_loader_train.dataset.get_train_indices()\n",
        "    new_sampler = data.sampler.SubsetRandomSampler( indices )\n",
        "    data_loader_train.batch_sampler.sampler = new_sampler    \n",
        "    images,captions = next(iter(data_loader_train))    \n",
        "    images , captions = images.to(device) , captions.to(device)\n",
        "    encoder , decoder = encoder.to(device) , decoder.to(device)\n",
        "    encoder.zero_grad()    \n",
        "    decoder.zero_grad()\n",
        "    features = encoder(images)\n",
        "    output = decoder( features , captions )    \n",
        "    loss = criterion( output.view(-1, vocab_size) , captions.view(-1) )\n",
        "    loss.backward()\n",
        "    optimizer.step()\n",
        "    stat_vals = 'Epochs [%d/%d] Step [%d/%d] Loss [%.4f] ' %( e+1,num_epochs,step,total_step,loss.item() )\n",
        "    if step % print_every == 0 :\n",
        "      print(stat_vals)\n",
        "      sys.stdout.flush()\n",
        "    if e % save_every == 0:\n",
        "      torch.save( encoder.state_dict() ,  os.path.join( model_save_path , 'encoderdata_{}.pkl'.format(e+1) ) )\n",
        "      torch.save( decoder.state_dict() ,  os.path.join( model_save_path , 'decoderdata_{}.pkl'.format(e+1) ) )\n"
      ],
      "execution_count": null,
      "outputs": [
        {
          "output_type": "stream",
          "name": "stdout",
          "text": [
            "Epochs [1/3] Step [0/2959] Loss [9.0164] \n",
            "Epochs [1/3] Step [150/2959] Loss [4.0110] \n",
            "Epochs [1/3] Step [300/2959] Loss [4.0787] \n",
            "Epochs [1/3] Step [450/2959] Loss [3.3980] \n",
            "Epochs [1/3] Step [600/2959] Loss [3.1862] \n",
            "Epochs [1/3] Step [750/2959] Loss [3.6598] \n",
            "Epochs [1/3] Step [900/2959] Loss [3.0280] \n",
            "Epochs [1/3] Step [1050/2959] Loss [3.0473] \n",
            "Epochs [1/3] Step [1200/2959] Loss [3.0451] \n",
            "Epochs [1/3] Step [1350/2959] Loss [2.9093] \n",
            "Epochs [1/3] Step [1500/2959] Loss [2.7904] \n",
            "Epochs [1/3] Step [1650/2959] Loss [2.8209] \n",
            "Epochs [1/3] Step [1800/2959] Loss [2.6872] \n",
            "Epochs [1/3] Step [1950/2959] Loss [2.9913] \n",
            "Epochs [1/3] Step [2100/2959] Loss [2.7338] \n",
            "Epochs [1/3] Step [2250/2959] Loss [2.6289] \n",
            "Epochs [1/3] Step [2400/2959] Loss [2.7329] \n",
            "Epochs [1/3] Step [2550/2959] Loss [2.5779] \n",
            "Epochs [1/3] Step [2700/2959] Loss [2.5298] \n",
            "Epochs [1/3] Step [2850/2959] Loss [2.4724] \n",
            "Epochs [2/3] Step [0/2959] Loss [2.6787] \n",
            "Epochs [2/3] Step [150/2959] Loss [2.4683] \n",
            "Epochs [2/3] Step [300/2959] Loss [2.5682] \n",
            "Epochs [2/3] Step [450/2959] Loss [2.7416] \n",
            "Epochs [2/3] Step [600/2959] Loss [2.4916] \n"
          ]
        }
      ]
    },
    {
      "cell_type": "markdown",
      "source": [
        "## Predict"
      ],
      "metadata": {
        "id": "bT1_I9FE-GnA"
      }
    },
    {
      "cell_type": "code",
      "metadata": {
        "id": "PmfVe7pcCiYv",
        "colab": {
          "base_uri": "https://localhost:8080/",
          "height": 173,
          "referenced_widgets": [
            "2a86526cbdae4009857d53d8dd22dc6a",
            "1fb4b64cee904438bf0079c3ef576bfa",
            "206b969f8c114d158713b03d46611268",
            "331586a186254267aad748ec5c832cf5",
            "b6cf0a621419469d999a61b3c4f5fabf",
            "8357f0af0b484085aca821aec33aa872",
            "9864dd17fbda40bf9d6f614e4a52b370",
            "e7f4a71aef73449eb85769dbaaeb66b3",
            "9cae70f3a2f9475eb4c492111407d1fc",
            "52266ddfcbdc4fe3a570e96a4a82264a",
            "f4f6dc55e73249f89a9e2062bb63f4bc"
          ]
        },
        "outputId": "1d2dca96-e652-4a0b-8390-6715f99c63a7"
      },
      "source": [
        "model_save_path = '/content/drive/My Drive/Colab Notebooks/ComputerVision/RNN_LSTM/image_caption/CVND---Image-Captioning-Project/checkpoint'\n",
        "os.makedirs( model_save_path , exist_ok=True)\n",
        "\n",
        "with open(  os.path.join(model_save_path , 'decoder_input_params_12_20_2019.pickle'), 'rb') as handle:\n",
        "    decoder_input_params = pickle.load(handle)\n",
        "\n",
        "embed_size = decoder_input_params['embed_size']\n",
        "hidden_size= decoder_input_params['hidden_size']\n",
        "vocab_size = decoder_input_params['vocab_size']\n",
        "num_layers = decoder_input_params['num_layers']\n",
        "\n",
        "encoder = EncoderCNN( embed_size )\n",
        "encoder.load_state_dict(   torch.load(  os.path.join( model_save_path , 'encoderdata_{}.pkl'.format(1) )   ) )\n",
        "\n",
        "decoder = DecoderRNN( embed_size , hidden_size , vocab_size , num_layers )\n",
        "decoder.load_state_dict( torch.load(   os.path.join( model_save_path , 'decoderdata_{}.pkl'.format(1) )   ) )\n",
        "\n"
      ],
      "execution_count": 21,
      "outputs": [
        {
          "output_type": "stream",
          "name": "stderr",
          "text": [
            "/usr/local/lib/python3.8/dist-packages/torchvision/models/_utils.py:208: UserWarning: The parameter 'pretrained' is deprecated since 0.13 and may be removed in the future, please use 'weights' instead.\n",
            "  warnings.warn(\n",
            "/usr/local/lib/python3.8/dist-packages/torchvision/models/_utils.py:223: UserWarning: Arguments other than a weight enum or `None` for 'weights' are deprecated since 0.13 and may be removed in the future. The current behavior is equivalent to passing `weights=ResNet50_Weights.IMAGENET1K_V1`. You can also use `weights=ResNet50_Weights.DEFAULT` to get the most up-to-date weights.\n",
            "  warnings.warn(msg)\n",
            "Downloading: \"https://download.pytorch.org/models/resnet50-0676ba61.pth\" to /root/.cache/torch/hub/checkpoints/resnet50-0676ba61.pth\n"
          ]
        },
        {
          "output_type": "display_data",
          "data": {
            "text/plain": [
              "  0%|          | 0.00/97.8M [00:00<?, ?B/s]"
            ],
            "application/vnd.jupyter.widget-view+json": {
              "version_major": 2,
              "version_minor": 0,
              "model_id": "2a86526cbdae4009857d53d8dd22dc6a"
            }
          },
          "metadata": {}
        },
        {
          "output_type": "execute_result",
          "data": {
            "text/plain": [
              "<All keys matched successfully>"
            ]
          },
          "metadata": {},
          "execution_count": 21
        }
      ]
    },
    {
      "cell_type": "code",
      "metadata": {
        "id": "s6BkposiQXEI",
        "colab": {
          "base_uri": "https://localhost:8080/"
        },
        "outputId": "f3f54f3e-d1d1-46fc-8391-26f00238c1fe"
      },
      "source": [
        "transform_test = transforms.Compose([ \n",
        "    transforms.Resize((224,224)),                          \n",
        "    transforms.RandomHorizontalFlip(),               \n",
        "    transforms.ToTensor(),                           \n",
        "    transforms.Normalize((0.485, 0.456, 0.406),      \n",
        "                         (0.229, 0.224, 0.225))])\n",
        "\n",
        "data_loader_test = get_loader(transform=transform_test,\n",
        "                         mode='test',                         \n",
        "                         cocoapi_loc = '/content/opt')\n",
        "\n",
        "data_iter = iter(data_loader_test)"
      ],
      "execution_count": 31,
      "outputs": [
        {
          "output_type": "stream",
          "name": "stdout",
          "text": [
            "Vocabulary successfully loaded from vocab.pkl file!\n"
          ]
        }
      ]
    },
    {
      "cell_type": "code",
      "metadata": {
        "id": "RXQ2rzJYz4J6"
      },
      "source": [
        "def get_sentences( original_img, all_predictions ):\n",
        "  sentence = ' '\n",
        "  plt.imshow(original_img.squeeze())\n",
        "  return sentence.join([data_loader_test.dataset.vocab.idx2word[idx] for idx in all_predictions[1:-1] ]  )"
      ],
      "execution_count": 32,
      "outputs": []
    },
    {
      "cell_type": "code",
      "metadata": {
        "id": "jC32FE_T_K0p",
        "colab": {
          "base_uri": "https://localhost:8080/",
          "height": 288
        },
        "outputId": "a9fa8893-aad5-454e-92ca-4342bb60b35b"
      },
      "source": [
        "encoder.to(device) \n",
        "decoder.to(device)\n",
        "encoder.eval()\n",
        "decoder.eval()\n",
        "original_img , processed_img  = next( data_iter )\n",
        "\n",
        "features  = encoder(processed_img.to(device)   ).unsqueeze(1)\n",
        "final_output = decoder.Predict( features  , max_len=20)\n",
        "get_sentences(original_img, final_output)"
      ],
      "execution_count": 46,
      "outputs": [
        {
          "output_type": "execute_result",
          "data": {
            "text/plain": [
              "'a plate of food with a sandwich and a fork .'"
            ],
            "application/vnd.google.colaboratory.intrinsic+json": {
              "type": "string"
            }
          },
          "metadata": {},
          "execution_count": 46
        },
        {
          "output_type": "display_data",
          "data": {
            "text/plain": [
              "<Figure size 432x288 with 1 Axes>"
            ],
            "image/png": "[encoded data removed]"
          },
          "metadata": {
            "needs_background": "light"
          }
        }
      ]
    }
  ]
}