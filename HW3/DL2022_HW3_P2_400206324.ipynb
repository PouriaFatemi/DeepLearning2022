{
  "cells": [
    {
      "cell_type": "markdown",
      "metadata": {
        "id": "PtOSIGEJ6b7j"
      },
      "source": [
        "# In the Name of God\n",
        "## Deep Learning HW3 - Problem 2\n",
        "## Sayed Pouria fatemi 400206324\n"
      ]
    },
    {
      "cell_type": "code",
      "execution_count": 1,
      "metadata": {
        "id": "-2B9QQjtP4l6"
      },
      "outputs": [],
      "source": [
        "import tensorflow as tf"
      ]
    },
    {
      "cell_type": "code",
      "execution_count": 2,
      "metadata": {
        "colab": {
          "base_uri": "https://localhost:8080/"
        },
        "id": "_puN1BTlQGFe",
        "outputId": "15954ecf-f869-43b5-ac7a-74ff92da453d"
      },
      "outputs": [
        {
          "output_type": "stream",
          "name": "stdout",
          "text": [
            "Cloning into 'resnet18-tf2'...\n",
            "remote: Enumerating objects: 6, done.\u001b[K\n",
            "remote: Counting objects: 100% (6/6), done.\u001b[K\n",
            "remote: Compressing objects: 100% (5/5), done.\u001b[K\n",
            "remote: Total 6 (delta 1), reused 6 (delta 1), pack-reused 0\u001b[K\n",
            "Unpacking objects: 100% (6/6), 2.89 KiB | 2.89 MiB/s, done.\n"
          ]
        }
      ],
      "source": [
        "! git clone https://github.com/jimmyyhwu/resnet18-tf2.git"
      ]
    },
    {
      "cell_type": "code",
      "execution_count": 3,
      "metadata": {
        "colab": {
          "base_uri": "https://localhost:8080/"
        },
        "id": "6zRcBhKWQJeO",
        "outputId": "94e73495-d8dd-4d8a-d5f9-1f641ddd2485"
      },
      "outputs": [
        {
          "output_type": "stream",
          "name": "stdout",
          "text": [
            "/content/resnet18-tf2\n"
          ]
        }
      ],
      "source": [
        "%cd /content/resnet18-tf2/\n",
        "from resnet import resnet18"
      ]
    },
    {
      "cell_type": "code",
      "execution_count": 4,
      "metadata": {
        "colab": {
          "base_uri": "https://localhost:8080/"
        },
        "id": "pOdL2k29Gkve",
        "outputId": "9375bf67-f925-44e5-ae81-1edc453fab1c"
      },
      "outputs": [
        {
          "output_type": "stream",
          "name": "stdout",
          "text": [
            "Downloading data from https://www.cs.toronto.edu/~kriz/cifar-10-python.tar.gz\n",
            "170498071/170498071 [==============================] - 4s 0us/step\n"
          ]
        }
      ],
      "source": [
        "(training_images, training_labels) , (validation_images, validation_labels) = tf.keras.datasets.cifar10.load_data()"
      ]
    },
    {
      "cell_type": "code",
      "execution_count": 5,
      "metadata": {
        "id": "l2K2fyRcT0EF"
      },
      "outputs": [],
      "source": [
        "training_data = tf.keras.applications.resnet50.preprocess_input(training_images)\n",
        "validation_data = tf.keras.applications.resnet50.preprocess_input(validation_images)"
      ]
    },
    {
      "cell_type": "markdown",
      "metadata": {
        "id": "8JR5Z5Of74DP"
      },
      "source": [
        "##Part (a)"
      ]
    },
    {
      "cell_type": "code",
      "execution_count": null,
      "metadata": {
        "colab": {
          "base_uri": "https://localhost:8080/"
        },
        "id": "fSOoC3Y0RfRL",
        "outputId": "cb0b3818-62cb-4adf-9e39-922d7fc0e7a7"
      },
      "outputs": [
        {
          "output_type": "stream",
          "name": "stdout",
          "text": [
            "Downloading data from https://storage.googleapis.com/tensorflow/keras-applications/resnet/resnet50_weights_tf_dim_ordering_tf_kernels_notop.h5\n",
            "94765736/94765736 [==============================] - 4s 0us/step\n",
            "Epoch 1/5\n",
            "500/500 [==============================] - 179s 335ms/step - loss: 0.5159 - accuracy: 0.8281 - val_loss: 0.3432 - val_accuracy: 0.8833\n",
            "Epoch 2/5\n",
            "500/500 [==============================] - 186s 372ms/step - loss: 0.2949 - accuracy: 0.8997 - val_loss: 0.3124 - val_accuracy: 0.8936\n",
            "Epoch 3/5\n",
            "500/500 [==============================] - 186s 373ms/step - loss: 0.2566 - accuracy: 0.9124 - val_loss: 0.2858 - val_accuracy: 0.9020\n",
            "Epoch 4/5\n",
            "500/500 [==============================] - 186s 373ms/step - loss: 0.2333 - accuracy: 0.9193 - val_loss: 0.2739 - val_accuracy: 0.9081\n",
            "Epoch 5/5\n",
            "500/500 [==============================] - 186s 373ms/step - loss: 0.2168 - accuracy: 0.9262 - val_loss: 0.2735 - val_accuracy: 0.9071\n"
          ]
        }
      ],
      "source": [
        "base_model = tf.keras.applications.resnet50.ResNet50(include_top=False, weights = \"imagenet\")\n",
        "base_model.trainable = False\n",
        "\n",
        "model = tf.keras.Sequential([\n",
        "    tf.keras.layers.UpSampling2D((7, 7), interpolation='bilinear'),\n",
        "    base_model,\n",
        "    tf.keras.layers.GlobalAveragePooling2D(),\n",
        "    tf.keras.layers.Flatten(),\n",
        "    tf.keras.layers.Dense(10)\n",
        "])\n",
        "\n",
        "model.compile(loss= tf.keras.losses.SparseCategoricalCrossentropy(from_logits=True),\n",
        "                  optimizer=tf.keras.optimizers.Adam(learning_rate = 5e-4) , metrics='accuracy')\n",
        "\n",
        "history = model.fit(training_data,\n",
        "                        training_labels,\n",
        "                        epochs= 5,\n",
        "                        validation_data=(validation_data, validation_labels),\n",
        "                        batch_size= 100)"
      ]
    },
    {
      "cell_type": "markdown",
      "metadata": {
        "id": "CqVdEZDT5sb0"
      },
      "source": [
        "<div dir=\"rtl\"> <font size=\"4\" face=\"vazirmatn\">    \n",
        "با توجه به این‌که فقط لایه \n",
        "Fully Connected\n",
        "را آموزش می‌دهیم، با تنها ۵\n",
        "epoch\n",
        "آموزش به دقت ۹۰.۷۱٪ می‌رسیم که دقت قابل قبولی‌ست.\n",
        "</font> </div> "
      ]
    },
    {
      "cell_type": "markdown",
      "metadata": {
        "id": "lsacQPbc7-4U"
      },
      "source": [
        "##Part (b)"
      ]
    },
    {
      "cell_type": "markdown",
      "metadata": {
        "id": "6PdxOy_58L2L"
      },
      "source": [
        "<div dir=\"rtl\"> <font size=\"4\" face=\"vazirmatn\">    \n",
        "برای کد این قسمت از این سایت\n",
        "https://keras.io/examples/vision/knowledge_distillation/\n",
        "کمک گرفته شده است.\n",
        "</font> </div> "
      ]
    },
    {
      "cell_type": "code",
      "execution_count": null,
      "metadata": {
        "id": "Xu9-PhlJe5qF"
      },
      "outputs": [],
      "source": [
        "class Distiller(tf.keras.Model):\n",
        "    def __init__(self, student, teacher):\n",
        "        super().__init__()\n",
        "        self.teacher = teacher\n",
        "        self.student = student\n",
        "\n",
        "    def compile(self, alpha, temperature):\n",
        "        super().compile(optimizer=tf.keras.optimizers.Adam(learning_rate = 5e-4) , metrics='accuracy')\n",
        "        self.student_loss_fn = tf.keras.losses.SparseCategoricalCrossentropy(from_logits=True)\n",
        "        self.distillation_loss_fn = tf.keras.losses.CategoricalCrossentropy()\n",
        "        self.alpha = alpha\n",
        "        self.temperature = temperature\n",
        "\n",
        "    def train_step(self, data):\n",
        "        teacher_predictions = self.teacher(data[0], training=False)\n",
        "\n",
        "        with tf.GradientTape() as tape:\n",
        "            student_predictions = self.student(data[0], training=True)\n",
        "            student_loss = self.student_loss_fn(data[1], student_predictions)\n",
        "            distillation_loss = self.distillation_loss_fn(\n",
        "                    tf.nn.softmax(teacher_predictions / self.temperature, axis=1),\n",
        "                    tf.nn.softmax(student_predictions / self.temperature, axis=1))\n",
        "            loss = self.alpha * student_loss + (1 - self.alpha) * self.temperature**2 * distillation_loss\n",
        "\n",
        "        trainable_vars = self.student.trainable_variables\n",
        "        gradients = tape.gradient(loss, trainable_vars)\n",
        "        self.optimizer.apply_gradients(zip(gradients, trainable_vars))\n",
        "        self.compiled_metrics.update_state(data[1], student_predictions)\n",
        "        results = {m.name: m.result() for m in self.metrics}\n",
        "        results.update({\"student_loss\": student_loss, \"total_loss\": loss})\n",
        "        return results\n",
        "\n",
        "    def test_step(self, data):\n",
        "        y_prediction = self.student(data[0], training=False)\n",
        "        student_loss = self.student_loss_fn(data[1], y_prediction)\n",
        "        self.compiled_metrics.update_state(data[1], y_prediction)\n",
        "        results = {m.name: m.result() for m in self.metrics}\n",
        "        results.update({\"student_loss\": student_loss})\n",
        "        return results"
      ]
    },
    {
      "cell_type": "code",
      "execution_count": 6,
      "metadata": {
        "id": "jCqvG6Clvg6q"
      },
      "outputs": [],
      "source": [
        "def ResNet18(num_classes):\n",
        "    inputs = tf.keras.layers.Input((32, 32, 3))\n",
        "    y = tf.keras.layers.UpSampling2D((7, 7), interpolation='bilinear')(inputs)\n",
        "    y = resnet18(y, num_classes=10)\n",
        "    model = tf.keras.Model(inputs=inputs, outputs=y)\n",
        "    return model"
      ]
    },
    {
      "cell_type": "code",
      "execution_count": null,
      "metadata": {
        "colab": {
          "background_save": true,
          "base_uri": "https://localhost:8080/"
        },
        "id": "aWEiyfTWv38f",
        "outputId": "1a14f599-0800-4d4b-de99-0013612db3f2"
      },
      "outputs": [
        {
          "name": "stdout",
          "output_type": "stream",
          "text": [
            "temperature = 1, alpha = 0.3\n",
            "Epoch 1/3\n",
            "500/500 [==============================] - 317s 627ms/step - accuracy: 0.5645 - student_loss: 1.2024 - total_loss: 1.2184 - val_accuracy: 0.6458 - val_student_loss: 1.0166\n",
            "Epoch 2/3\n",
            "500/500 [==============================] - 314s 629ms/step - accuracy: 0.7532 - student_loss: 0.7111 - total_loss: 0.7595 - val_accuracy: 0.7601 - val_student_loss: 0.7786\n",
            "Epoch 3/3\n",
            "500/500 [==============================] - 313s 627ms/step - accuracy: 0.8181 - student_loss: 0.5338 - total_loss: 0.6079 - val_accuracy: 0.7815 - val_student_loss: 0.7890\n",
            "temperature = 1, alpha = 0.5\n",
            "Epoch 1/3\n",
            "500/500 [==============================] - 316s 626ms/step - accuracy: 0.5639 - student_loss: 1.2056 - total_loss: 1.2181 - val_accuracy: 0.5480 - val_student_loss: 1.3523\n",
            "Epoch 2/3\n",
            "500/500 [==============================] - 313s 627ms/step - accuracy: 0.7494 - student_loss: 0.7148 - total_loss: 0.7516 - val_accuracy: 0.7502 - val_student_loss: 0.7438\n",
            "Epoch 3/3\n",
            "500/500 [==============================] - 313s 626ms/step - accuracy: 0.8144 - student_loss: 0.5408 - total_loss: 0.5979 - val_accuracy: 0.7758 - val_student_loss: 0.6473\n",
            "temperature = 1, alpha = 0.7\n",
            "Epoch 1/3\n",
            "500/500 [==============================] - 315s 624ms/step - accuracy: 0.5554 - student_loss: 1.2313 - total_loss: 1.2384 - val_accuracy: 0.5422 - val_student_loss: 1.5507\n",
            "Epoch 2/3\n",
            "500/500 [==============================] - 313s 626ms/step - accuracy: 0.7482 - student_loss: 0.7252 - total_loss: 0.7484 - val_accuracy: 0.7215 - val_student_loss: 0.8635\n",
            "Epoch 3/3\n",
            "500/500 [==============================] - 313s 627ms/step - accuracy: 0.8160 - student_loss: 0.5363 - total_loss: 0.5750 - val_accuracy: 0.8002 - val_student_loss: 0.6518\n",
            "temperature = 1, alpha = 0.9\n",
            "Epoch 1/3\n",
            "500/500 [==============================] - 318s 630ms/step - accuracy: 0.5577 - student_loss: 1.2219 - total_loss: 1.2243 - val_accuracy: 0.6410 - val_student_loss: 1.0913\n",
            "Epoch 2/3\n",
            "500/500 [==============================] - 313s 626ms/step - accuracy: 0.7450 - student_loss: 0.7315 - total_loss: 0.7397 - val_accuracy: 0.6911 - val_student_loss: 0.8263\n",
            "Epoch 3/3\n",
            "500/500 [==============================] - 313s 627ms/step - accuracy: 0.8151 - student_loss: 0.5379 - total_loss: 0.5519 - val_accuracy: 0.7993 - val_student_loss: 0.5744\n",
            "temperature = 2, alpha = 0.3\n",
            "Epoch 1/3\n",
            "500/500 [==============================] - 316s 627ms/step - accuracy: 0.5738 - student_loss: 1.2401 - total_loss: 4.2458 - val_accuracy: 0.6582 - val_student_loss: 0.9841\n",
            "Epoch 2/3\n",
            "500/500 [==============================] - 314s 628ms/step - accuracy: 0.7615 - student_loss: 0.7053 - total_loss: 3.1761 - val_accuracy: 0.7724 - val_student_loss: 0.6795\n",
            "Epoch 3/3\n",
            "500/500 [==============================] - 314s 627ms/step - accuracy: 0.8243 - student_loss: 0.5162 - total_loss: 2.8582 - val_accuracy: 0.7921 - val_student_loss: 0.7164\n",
            "temperature = 2, alpha = 0.5\n",
            "Epoch 1/3\n",
            "500/500 [==============================] - 316s 627ms/step - accuracy: 0.5620 - student_loss: 1.2543 - total_loss: 3.4543 - val_accuracy: 0.6802 - val_student_loss: 1.0097\n",
            "Epoch 2/3\n",
            "500/500 [==============================] - 314s 627ms/step - accuracy: 0.7530 - student_loss: 0.7230 - total_loss: 2.5187 - val_accuracy: 0.7622 - val_student_loss: 0.7356\n",
            "Epoch 3/3\n",
            "500/500 [==============================] - 312s 625ms/step - accuracy: 0.8216 - student_loss: 0.5215 - total_loss: 2.2161 - val_accuracy: 0.7968 - val_student_loss: 0.6401\n",
            "temperature = 2, alpha = 0.7\n",
            "Epoch 1/3\n",
            "500/500 [==============================] - 318s 630ms/step - accuracy: 0.5641 - student_loss: 1.2308 - total_loss: 2.5712 - val_accuracy: 0.6557 - val_student_loss: 1.0881\n",
            "Epoch 2/3\n",
            "500/500 [==============================] - 314s 628ms/step - accuracy: 0.7503 - student_loss: 0.7243 - total_loss: 1.8191 - val_accuracy: 0.7049 - val_student_loss: 0.9843\n",
            "Epoch 3/3\n",
            "500/500 [==============================] - 313s 625ms/step - accuracy: 0.8193 - student_loss: 0.5225 - total_loss: 1.5568 - val_accuracy: 0.7842 - val_student_loss: 0.7124\n",
            "temperature = 2, alpha = 0.9\n",
            "Epoch 1/3\n",
            "500/500 [==============================] - 317s 628ms/step - accuracy: 0.5548 - student_loss: 1.2306 - total_loss: 1.6967 - val_accuracy: 0.6398 - val_student_loss: 1.0574\n",
            "Epoch 2/3\n",
            "500/500 [==============================] - 313s 625ms/step - accuracy: 0.7365 - student_loss: 0.7421 - total_loss: 1.1217 - val_accuracy: 0.7224 - val_student_loss: 0.7877\n",
            "Epoch 3/3\n",
            "500/500 [==============================] - 314s 627ms/step - accuracy: 0.8099 - student_loss: 0.5445 - total_loss: 0.8985 - val_accuracy: 0.7909 - val_student_loss: 0.6542\n",
            "temperature = 3, alpha = 0.3\n",
            "Epoch 1/3\n",
            "500/500 [==============================] - 318s 629ms/step - accuracy: 0.5646 - student_loss: 1.3355 - total_loss: 10.7332 - val_accuracy: 0.6644 - val_student_loss: 1.1363\n",
            "Epoch 2/3\n",
            "500/500 [==============================] - 314s 628ms/step - accuracy: 0.7545 - student_loss: 0.7544 - total_loss: 9.1775 - val_accuracy: 0.7519 - val_student_loss: 0.8952\n",
            "Epoch 3/3\n",
            "500/500 [==============================] - 314s 628ms/step - accuracy: 0.8198 - student_loss: 0.5395 - total_loss: 8.7001 - val_accuracy: 0.8125 - val_student_loss: 0.5261\n",
            "temperature = 3, alpha = 0.5\n",
            "Epoch 1/3\n",
            "500/500 [==============================] - 317s 628ms/step - accuracy: 0.5559 - student_loss: 1.3294 - total_loss: 8.1240 - val_accuracy: 0.6583 - val_student_loss: 1.0796\n",
            "Epoch 2/3\n",
            "500/500 [==============================] - 313s 627ms/step - accuracy: 0.7512 - student_loss: 0.7536 - total_loss: 6.8112 - val_accuracy: 0.7771 - val_student_loss: 0.6929\n",
            "Epoch 3/3\n",
            "500/500 [==============================] - 313s 625ms/step - accuracy: 0.8234 - student_loss: 0.5269 - total_loss: 6.3832 - val_accuracy: 0.8070 - val_student_loss: 0.6225\n",
            "temperature = 3, alpha = 0.7\n",
            "Epoch 1/3\n",
            "500/500 [==============================] - 316s 626ms/step - accuracy: 0.5747 - student_loss: 1.2327 - total_loss: 5.3164 - val_accuracy: 0.6686 - val_student_loss: 1.1348\n",
            "Epoch 2/3\n",
            "500/500 [==============================] - 313s 626ms/step - accuracy: 0.7526 - student_loss: 0.7211 - total_loss: 4.3784 - val_accuracy: 0.6921 - val_student_loss: 1.1063\n",
            "Epoch 3/3\n",
            "500/500 [==============================] - 314s 628ms/step - accuracy: 0.8240 - student_loss: 0.5122 - total_loss: 4.0569 - val_accuracy: 0.8059 - val_student_loss: 0.7089\n",
            "temperature = 3, alpha = 0.9\n",
            "Epoch 1/3\n",
            "500/500 [==============================] - 316s 625ms/step - accuracy: 0.5513 - student_loss: 1.2464 - total_loss: 2.6653 - val_accuracy: 0.6534 - val_student_loss: 1.1909\n",
            "Epoch 2/3\n",
            "500/500 [==============================] - 312s 625ms/step - accuracy: 0.7441 - student_loss: 0.7367 - total_loss: 1.9897 - val_accuracy: 0.6897 - val_student_loss: 1.0654\n",
            "Epoch 3/3\n",
            "500/500 [==============================] - 313s 626ms/step - accuracy: 0.8145 - student_loss: 0.5333 - total_loss: 1.7393 - val_accuracy: 0.7778 - val_student_loss: 0.6991\n",
            "temperature = 4, alpha = 0.3\n",
            "Epoch 1/3\n",
            "500/500 [==============================] - 317s 629ms/step - accuracy: 0.5553 - student_loss: 1.4008 - total_loss: 21.1389 - val_accuracy: 0.6407 - val_student_loss: 1.2730\n",
            "Epoch 2/3\n",
            "500/500 [==============================] - 314s 628ms/step - accuracy: 0.7494 - student_loss: 0.7832 - total_loss: 19.2746 - val_accuracy: 0.7827 - val_student_loss: 0.6993\n",
            "Epoch 3/3\n",
            "470/500 [===========================>..] - ETA: 18s - accuracy: 0.8175 - student_loss: 0.5543 - total_loss: 18.7173"
          ]
        }
      ],
      "source": [
        "temperatures = [1, 2, 3, 4]\n",
        "alphas = [0.3, 0.5, 0.7, 0.9]\n",
        "for temperature in temperatures:\n",
        "  for alpha in alphas:\n",
        "    print(f\"temperature = {temperature}, alpha = {alpha}\")\n",
        "    student_model = ResNet18(num_classes=10)\n",
        "    \n",
        "    distiller = Distiller(student_model, model)\n",
        "    distiller.compile(alpha, temperature)\n",
        "\n",
        "    history_teacherStudent = distiller.fit(training_data,\n",
        "                                training_labels,\n",
        "                                epochs= 3,\n",
        "                                validation_data=(validation_data, validation_labels),\n",
        "                                batch_size= 100)"
      ]
    },
    {
      "cell_type": "markdown",
      "source": [
        "<div dir=\"rtl\"> <font size=\"4\" face=\"vazirmatn\">    \n",
        "بهترین عملکرد را در حالت \n",
        "temperature = 3, alpha = 0.3\n",
        "داریم.\n",
        "</font> </div> "
      ],
      "metadata": {
        "id": "PoaH2HF_t1af"
      }
    },
    {
      "cell_type": "code",
      "execution_count": null,
      "metadata": {
        "id": "jt6tmMM-oRp3",
        "colab": {
          "base_uri": "https://localhost:8080/"
        },
        "outputId": "0924de5f-aa6a-4bdd-f86c-1e768829a568"
      },
      "outputs": [
        {
          "output_type": "stream",
          "name": "stdout",
          "text": [
            "Epoch 1/10\n",
            "500/500 [==============================] - 320s 634ms/step - accuracy: 0.5736 - student_loss: 1.3046 - total_loss: 10.6953 - val_accuracy: 0.6485 - val_student_loss: 1.2157\n",
            "Epoch 2/10\n",
            "500/500 [==============================] - 317s 633ms/step - accuracy: 0.7595 - student_loss: 0.7325 - total_loss: 9.1958 - val_accuracy: 0.7171 - val_student_loss: 1.0192\n",
            "Epoch 3/10\n",
            "500/500 [==============================] - 316s 633ms/step - accuracy: 0.8241 - student_loss: 0.5252 - total_loss: 8.7394 - val_accuracy: 0.8058 - val_student_loss: 0.5817\n",
            "Epoch 4/10\n",
            "500/500 [==============================] - 317s 633ms/step - accuracy: 0.8593 - student_loss: 0.4148 - total_loss: 8.5033 - val_accuracy: 0.8258 - val_student_loss: 0.6352\n",
            "Epoch 5/10\n",
            "500/500 [==============================] - 316s 632ms/step - accuracy: 0.8856 - student_loss: 0.3342 - total_loss: 8.3290 - val_accuracy: 0.8185 - val_student_loss: 0.4977\n",
            "Epoch 6/10\n",
            "500/500 [==============================] - 317s 634ms/step - accuracy: 0.9051 - student_loss: 0.2752 - total_loss: 8.1994 - val_accuracy: 0.8157 - val_student_loss: 0.4746\n",
            "Epoch 7/10\n",
            "500/500 [==============================] - 317s 634ms/step - accuracy: 0.9198 - student_loss: 0.2341 - total_loss: 8.0965 - val_accuracy: 0.8522 - val_student_loss: 0.3620\n",
            "Epoch 8/10\n",
            "500/500 [==============================] - 316s 632ms/step - accuracy: 0.9305 - student_loss: 0.2040 - total_loss: 8.0095 - val_accuracy: 0.8374 - val_student_loss: 0.4555\n",
            "Epoch 9/10\n",
            "500/500 [==============================] - 317s 634ms/step - accuracy: 0.9371 - student_loss: 0.1861 - total_loss: 7.9491 - val_accuracy: 0.8631 - val_student_loss: 0.4017\n",
            "Epoch 10/10\n",
            "500/500 [==============================] - 316s 632ms/step - accuracy: 0.9403 - student_loss: 0.1759 - total_loss: 7.9111 - val_accuracy: 0.8656 - val_student_loss: 0.3427\n"
          ]
        }
      ],
      "source": [
        "student_model = ResNet18(num_classes=10)\n",
        "\n",
        "distiller = Distiller(student_model, model)\n",
        "distiller.compile(alpha=0.3, temperature=3)\n",
        "\n",
        "history_teacherStudent = distiller.fit(training_data,\n",
        "                        training_labels,\n",
        "                        epochs= 10,\n",
        "                        validation_data=(validation_data, validation_labels),\n",
        "                        batch_size= 100)"
      ]
    },
    {
      "cell_type": "markdown",
      "metadata": {
        "id": "62qOO0lD7BRO"
      },
      "source": [
        "<div dir=\"rtl\"> <font size=\"4\" face=\"vazirmatn\">    \n",
        "دقت بدست آمده روی داده‌ی \n",
        "validation\n",
        "قابل قبول است. همان‌طوری که در بالا مشاهده می‌کنید دقت نهایی ۸۶.۵۶٪ است.\n",
        "</font> </div> "
      ]
    },
    {
      "cell_type": "markdown",
      "metadata": {
        "id": "yvC1xIoO9BH0"
      },
      "source": [
        "##Part (c)"
      ]
    },
    {
      "cell_type": "code",
      "execution_count": 7,
      "metadata": {
        "id": "BIS4ZbGDO-DY",
        "colab": {
          "base_uri": "https://localhost:8080/"
        },
        "outputId": "638f99b3-1e6a-429e-cb35-93e623021c43"
      },
      "outputs": [
        {
          "output_type": "stream",
          "name": "stdout",
          "text": [
            "Epoch 1/10\n",
            "500/500 [==============================] - 188s 353ms/step - loss: 1.2595 - accuracy: 0.5439 - val_loss: 1.0294 - val_accuracy: 0.6329\n",
            "Epoch 2/10\n",
            "500/500 [==============================] - 177s 354ms/step - loss: 0.7546 - accuracy: 0.7363 - val_loss: 0.7275 - val_accuracy: 0.7495\n",
            "Epoch 3/10\n",
            "500/500 [==============================] - 177s 353ms/step - loss: 0.5555 - accuracy: 0.8062 - val_loss: 0.7445 - val_accuracy: 0.7446\n",
            "Epoch 4/10\n",
            "500/500 [==============================] - 177s 355ms/step - loss: 0.4360 - accuracy: 0.8487 - val_loss: 0.5883 - val_accuracy: 0.8018\n",
            "Epoch 5/10\n",
            "500/500 [==============================] - 177s 354ms/step - loss: 0.3319 - accuracy: 0.8847 - val_loss: 0.5931 - val_accuracy: 0.8021\n",
            "Epoch 6/10\n",
            "500/500 [==============================] - 176s 353ms/step - loss: 0.2535 - accuracy: 0.9116 - val_loss: 0.5939 - val_accuracy: 0.8097\n",
            "Epoch 7/10\n",
            "500/500 [==============================] - 177s 353ms/step - loss: 0.1755 - accuracy: 0.9388 - val_loss: 0.6622 - val_accuracy: 0.8066\n",
            "Epoch 8/10\n",
            "500/500 [==============================] - 177s 354ms/step - loss: 0.1195 - accuracy: 0.9592 - val_loss: 0.6330 - val_accuracy: 0.8242\n",
            "Epoch 9/10\n",
            "500/500 [==============================] - 176s 352ms/step - loss: 0.0885 - accuracy: 0.9703 - val_loss: 0.6433 - val_accuracy: 0.8270\n",
            "Epoch 10/10\n",
            "500/500 [==============================] - 177s 354ms/step - loss: 0.0761 - accuracy: 0.9734 - val_loss: 0.6243 - val_accuracy: 0.8390\n"
          ]
        }
      ],
      "source": [
        "resnet18_new = ResNet18(num_classes=10)\n",
        "resnet18_new.compile(loss= tf.keras.losses.SparseCategoricalCrossentropy(from_logits=True),\n",
        "                  optimizer=tf.keras.optimizers.Adam(learning_rate = 5e-4) , metrics='accuracy')\n",
        "history_resnet18_new = resnet18_new.fit(training_data,\n",
        "                        training_labels,\n",
        "                        epochs= 10,\n",
        "                        validation_data=(validation_data, validation_labels),\n",
        "                        batch_size= 100)"
      ]
    },
    {
      "cell_type": "markdown",
      "source": [
        "<div dir=\"rtl\"> <font size=\"4\" face=\"vazirmatn\">    \n",
        "همان‌طور که انتظار داشتیم دقت نهایی بدون وجود teacher\n",
        "بدتر می‌شود. علت این امر این است که در وجود \n",
        "teacher\n",
        "از عملکرد با دقت بالای یک شبکه‌ی دیگر کمک می‌گیریم و سعی در شبیه کردن بردارهای احتمال دو شبکه هستیم که در این‌جا به آن دسترسی نداریم.\n",
        "</font> </div> "
      ],
      "metadata": {
        "id": "c1S4aE1ovnPd"
      }
    },
    {
      "cell_type": "markdown",
      "metadata": {
        "id": "tP5cvkvY9EEs"
      },
      "source": [
        "##Part (d)"
      ]
    },
    {
      "cell_type": "code",
      "execution_count": 10,
      "metadata": {
        "id": "Fp95qNBqP-qx",
        "colab": {
          "base_uri": "https://localhost:8080/"
        },
        "outputId": "5e5ccc49-9733-45bf-dd3d-55eceba7bd04"
      },
      "outputs": [
        {
          "output_type": "stream",
          "name": "stdout",
          "text": [
            "Epoch 1/5\n",
            "500/500 [==============================] - 541s 1s/step - loss: 0.4223 - accuracy: 0.8598 - val_loss: 0.4171 - val_accuracy: 0.8586\n",
            "Epoch 2/5\n",
            "500/500 [==============================] - 534s 1s/step - loss: 0.2075 - accuracy: 0.9282 - val_loss: 0.3302 - val_accuracy: 0.8901\n",
            "Epoch 3/5\n",
            "500/500 [==============================] - 534s 1s/step - loss: 0.1440 - accuracy: 0.9502 - val_loss: 0.3110 - val_accuracy: 0.9003\n",
            "Epoch 4/5\n",
            "500/500 [==============================] - 534s 1s/step - loss: 0.1048 - accuracy: 0.9632 - val_loss: 0.4110 - val_accuracy: 0.8806\n",
            "Epoch 5/5\n",
            "500/500 [==============================] - 534s 1s/step - loss: 0.0865 - accuracy: 0.9701 - val_loss: 0.3824 - val_accuracy: 0.8847\n"
          ]
        }
      ],
      "source": [
        "base_model = tf.keras.applications.resnet50.ResNet50(include_top=False, weights = \"imagenet\")\n",
        "\n",
        "resnet50_model = tf.keras.Sequential([\n",
        "    tf.keras.layers.UpSampling2D((7, 7), interpolation='bilinear'),\n",
        "    base_model,\n",
        "    tf.keras.layers.GlobalAveragePooling2D(),\n",
        "    tf.keras.layers.Flatten(),\n",
        "    tf.keras.layers.Dense(10)\n",
        "])\n",
        "\n",
        "resnet50_model.compile(loss= tf.keras.losses.SparseCategoricalCrossentropy(from_logits=True),\n",
        "                  optimizer=tf.keras.optimizers.Adam(learning_rate = 5e-4) , metrics='accuracy')\n",
        "\n",
        "history_resnet50_model = resnet50_model.fit(training_data,\n",
        "                        training_labels,\n",
        "                        epochs= 5,\n",
        "                        validation_data=(validation_data, validation_labels),\n",
        "                        batch_size= 100)"
      ]
    },
    {
      "cell_type": "markdown",
      "source": [
        "<div dir=\"rtl\"> <font size=\"4\" face=\"vazirmatn\">    \n",
        "همان‌طور که مشاهده می‌کنید دقت نسبت به قسمت (آ) کمی بدتر شده و زمان اجرا نیز افزایش یافته است که با توجه به این‌که کل پارمترهای مدل در حال آپدیت هستند طبیعی‌ست. همان‌طور که مشاهده می‌کنید دقت با حالت اول تفاوت جدی ندارد که نشان‌دهنده‌ی این است که شبکه\n",
        "ResNet50\n",
        "با وزن‌های آموزش دیده روی\n",
        "ImageNet\n",
        "ویژگی‌های خوبی برای دیتاست\n",
        "CIFAR-10\n",
        "استخراج می‌کند و نیاز به \n",
        "Fine-tuning\n",
        "نداریم.\n",
        "\n",
        "</font> </div> "
      ],
      "metadata": {
        "id": "08DYV3kuxKL9"
      }
    }
  ],
  "metadata": {
    "accelerator": "GPU",
    "colab": {
      "provenance": []
    },
    "gpuClass": "standard",
    "kernelspec": {
      "display_name": "Python 3",
      "name": "python3"
    },
    "language_info": {
      "name": "python"
    }
  },
  "nbformat": 4,
  "nbformat_minor": 0
}